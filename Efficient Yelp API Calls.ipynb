{
 "cells": [
  {
   "cell_type": "code",
   "execution_count": 2,
   "id": "ae3a0982",
   "metadata": {},
   "outputs": [
    {
     "name": "stdout",
     "output_type": "stream",
     "text": [
      "Collecting yelpapi\n",
      "  Downloading yelpapi-2.5.0-py3-none-any.whl (7.4 kB)\n",
      "Requirement already satisfied: requests in c:\\users\\aharo\\anaconda3\\envs\\dojo-env\\lib\\site-packages (from yelpapi) (2.28.1)\n",
      "Requirement already satisfied: charset-normalizer<3,>=2 in c:\\users\\aharo\\anaconda3\\envs\\dojo-env\\lib\\site-packages (from requests->yelpapi) (2.0.4)\n",
      "Requirement already satisfied: urllib3<1.27,>=1.21.1 in c:\\users\\aharo\\anaconda3\\envs\\dojo-env\\lib\\site-packages (from requests->yelpapi) (1.26.13)\n",
      "Requirement already satisfied: certifi>=2017.4.17 in c:\\users\\aharo\\anaconda3\\envs\\dojo-env\\lib\\site-packages (from requests->yelpapi) (2022.9.24)\n",
      "Requirement already satisfied: idna<4,>=2.5 in c:\\users\\aharo\\anaconda3\\envs\\dojo-env\\lib\\site-packages (from requests->yelpapi) (3.4)\n",
      "Installing collected packages: yelpapi\n",
      "Successfully installed yelpapi-2.5.0\n"
     ]
    }
   ],
   "source": [
    "# Import libraries \n",
    "import json\n",
    "import pandas as pd\n",
    "!pip install yelpapi\n",
    "from yelpapi import YelpAPI"
   ]
  },
  {
   "cell_type": "code",
   "execution_count": 30,
   "id": "d8f21014",
   "metadata": {},
   "outputs": [],
   "source": [
    "# Load API Credentials\n",
    "with open('/Users/aharo/.secret/yelp_api.json') as f:\n",
    "    login = json.load(f)"
   ]
  },
  {
   "cell_type": "code",
   "execution_count": 31,
   "id": "5e8e3e16",
   "metadata": {},
   "outputs": [],
   "source": [
    "# Instantiate YelpAPI Variable\n",
    "yelp_api = YelpAPI(login['api-key'], timeout_s=5.0)"
   ]
  },
  {
   "cell_type": "code",
   "execution_count": 41,
   "id": "8f09f573",
   "metadata": {},
   "outputs": [],
   "source": [
    "# Define the search parameters\n",
    "location = \"Denver, CO\"\n",
    "cuisine = \"Pizza\""
   ]
  },
  {
   "cell_type": "code",
   "execution_count": 42,
   "id": "71deda95",
   "metadata": {},
   "outputs": [],
   "source": [
    "# Perform the initial API call to get the total number of results\n",
    "initial_results = yelp_api.search_query(location=location, term=cuisine, limit=50)\n",
    "total_results = initial_results['total']"
   ]
  },
  {
   "cell_type": "code",
   "execution_count": 43,
   "id": "71ece971",
   "metadata": {},
   "outputs": [],
   "source": [
    "# Set up the dataframe\n",
    "df = pd.DataFrame(initial_results['businesses'])"
   ]
  },
  {
   "cell_type": "code",
   "execution_count": 46,
   "id": "6b013da1",
   "metadata": {},
   "outputs": [],
   "source": [
    "# Specify the desired limit per batch (<= 1000)\n",
    "batch_limit = 50"
   ]
  },
  {
   "cell_type": "code",
   "execution_count": 49,
   "id": "46e571ea",
   "metadata": {},
   "outputs": [],
   "source": [
    "# Determine the number of batches required for pagination\n",
    "n_batches = (total_results + batch_limit - 1) // batch_limit"
   ]
  },
  {
   "cell_type": "code",
   "execution_count": 50,
   "id": "f235d2b2",
   "metadata": {},
   "outputs": [
    {
     "ename": "YelpAPIError",
     "evalue": "VALIDATION_ERROR: Too many results requested, limit+offset must be <= 1000.",
     "output_type": "error",
     "traceback": [
      "\u001b[1;31m---------------------------------------------------------------------------\u001b[0m",
      "\u001b[1;31mYelpAPIError\u001b[0m                              Traceback (most recent call last)",
      "Cell \u001b[1;32mIn [50], line 4\u001b[0m\n\u001b[0;32m      2\u001b[0m \u001b[38;5;28;01mfor\u001b[39;00m batch_offset \u001b[38;5;129;01min\u001b[39;00m \u001b[38;5;28mrange\u001b[39m(\u001b[38;5;241m1\u001b[39m, n_batches \u001b[38;5;241m+\u001b[39m \u001b[38;5;241m1\u001b[39m):\n\u001b[0;32m      3\u001b[0m     offset \u001b[38;5;241m=\u001b[39m batch_offset \u001b[38;5;241m*\u001b[39m batch_limit\n\u001b[1;32m----> 4\u001b[0m     batch_results \u001b[38;5;241m=\u001b[39m \u001b[43myelp_api\u001b[49m\u001b[38;5;241;43m.\u001b[39;49m\u001b[43msearch_query\u001b[49m\u001b[43m(\u001b[49m\u001b[43mlocation\u001b[49m\u001b[38;5;241;43m=\u001b[39;49m\u001b[43mlocation\u001b[49m\u001b[43m,\u001b[49m\u001b[43m \u001b[49m\u001b[43mterm\u001b[49m\u001b[38;5;241;43m=\u001b[39;49m\u001b[43mcuisine\u001b[49m\u001b[43m,\u001b[49m\u001b[43m \u001b[49m\u001b[43mlimit\u001b[49m\u001b[38;5;241;43m=\u001b[39;49m\u001b[43mbatch_limit\u001b[49m\u001b[43m,\u001b[49m\u001b[43m \u001b[49m\u001b[43moffset\u001b[49m\u001b[38;5;241;43m=\u001b[39;49m\u001b[43moffset\u001b[49m\u001b[43m)\u001b[49m\n\u001b[0;32m      5\u001b[0m     df \u001b[38;5;241m=\u001b[39m pd\u001b[38;5;241m.\u001b[39mconcat([df, pd\u001b[38;5;241m.\u001b[39mDataFrame(batch_results[\u001b[38;5;124m'\u001b[39m\u001b[38;5;124mbusinesses\u001b[39m\u001b[38;5;124m'\u001b[39m])], ignore_index\u001b[38;5;241m=\u001b[39m\u001b[38;5;28;01mTrue\u001b[39;00m)\n",
      "File \u001b[1;32m~\\anaconda3\\envs\\dojo-env\\lib\\site-packages\\yelpapi\\yelpapi.py:251\u001b[0m, in \u001b[0;36mYelpAPI.search_query\u001b[1;34m(self, **kwargs)\u001b[0m\n\u001b[0;32m    247\u001b[0m \u001b[38;5;28;01mif\u001b[39;00m \u001b[38;5;129;01mnot\u001b[39;00m kwargs\u001b[38;5;241m.\u001b[39mget(\u001b[38;5;124m'\u001b[39m\u001b[38;5;124mlocation\u001b[39m\u001b[38;5;124m'\u001b[39m) \u001b[38;5;129;01mand\u001b[39;00m (\u001b[38;5;129;01mnot\u001b[39;00m kwargs\u001b[38;5;241m.\u001b[39mget(\u001b[38;5;124m'\u001b[39m\u001b[38;5;124mlatitude\u001b[39m\u001b[38;5;124m'\u001b[39m) \u001b[38;5;129;01mor\u001b[39;00m \u001b[38;5;129;01mnot\u001b[39;00m kwargs\u001b[38;5;241m.\u001b[39mget(\u001b[38;5;124m'\u001b[39m\u001b[38;5;124mlongitude\u001b[39m\u001b[38;5;124m'\u001b[39m)):\n\u001b[0;32m    248\u001b[0m     \u001b[38;5;28;01mraise\u001b[39;00m \u001b[38;5;167;01mValueError\u001b[39;00m(\u001b[38;5;124m'\u001b[39m\u001b[38;5;124mA valid location (parameter \u001b[39m\u001b[38;5;124m\"\u001b[39m\u001b[38;5;124mlocation\u001b[39m\u001b[38;5;124m\"\u001b[39m\u001b[38;5;124m) or latitude/longitude combination \u001b[39m\u001b[38;5;124m'\u001b[39m\n\u001b[0;32m    249\u001b[0m                      \u001b[38;5;124m'\u001b[39m\u001b[38;5;124m(parameters \u001b[39m\u001b[38;5;124m\"\u001b[39m\u001b[38;5;124mlatitude\u001b[39m\u001b[38;5;124m\"\u001b[39m\u001b[38;5;124m and \u001b[39m\u001b[38;5;124m\"\u001b[39m\u001b[38;5;124mlongitude\u001b[39m\u001b[38;5;124m\"\u001b[39m\u001b[38;5;124m) must be provided.\u001b[39m\u001b[38;5;124m'\u001b[39m)\n\u001b[1;32m--> 251\u001b[0m \u001b[38;5;28;01mreturn\u001b[39;00m \u001b[38;5;28mself\u001b[39m\u001b[38;5;241m.\u001b[39m_query(SEARCH_API_URL, \u001b[38;5;241m*\u001b[39m\u001b[38;5;241m*\u001b[39mkwargs)\n",
      "File \u001b[1;32m~\\anaconda3\\envs\\dojo-env\\lib\\site-packages\\yelpapi\\yelpapi.py:299\u001b[0m, in \u001b[0;36mYelpAPI._query\u001b[1;34m(self, url, **kwargs)\u001b[0m\n\u001b[0;32m    295\u001b[0m \u001b[38;5;66;03m# Yelp can return one of many different API errors, so check for one of them.\u001b[39;00m\n\u001b[0;32m    296\u001b[0m \u001b[38;5;66;03m# The Yelp Fusion API does not yet have a complete list of errors, but this is on the TODO list; see\u001b[39;00m\n\u001b[0;32m    297\u001b[0m \u001b[38;5;66;03m# https://github.com/Yelp/yelp-fusion/issues/95 for more info.\u001b[39;00m\n\u001b[0;32m    298\u001b[0m \u001b[38;5;28;01mif\u001b[39;00m \u001b[38;5;124m'\u001b[39m\u001b[38;5;124merror\u001b[39m\u001b[38;5;124m'\u001b[39m \u001b[38;5;129;01min\u001b[39;00m response_json:\n\u001b[1;32m--> 299\u001b[0m     \u001b[38;5;28;01mraise\u001b[39;00m YelpAPI\u001b[38;5;241m.\u001b[39mYelpAPIError(\u001b[38;5;124m'\u001b[39m\u001b[38;5;132;01m{}\u001b[39;00m\u001b[38;5;124m: \u001b[39m\u001b[38;5;132;01m{}\u001b[39;00m\u001b[38;5;124m'\u001b[39m\u001b[38;5;241m.\u001b[39mformat(response_json[\u001b[38;5;124m'\u001b[39m\u001b[38;5;124merror\u001b[39m\u001b[38;5;124m'\u001b[39m][\u001b[38;5;124m'\u001b[39m\u001b[38;5;124mcode\u001b[39m\u001b[38;5;124m'\u001b[39m],\n\u001b[0;32m    300\u001b[0m                                                response_json[\u001b[38;5;124m'\u001b[39m\u001b[38;5;124merror\u001b[39m\u001b[38;5;124m'\u001b[39m][\u001b[38;5;124m'\u001b[39m\u001b[38;5;124mdescription\u001b[39m\u001b[38;5;124m'\u001b[39m]))\n\u001b[0;32m    302\u001b[0m \u001b[38;5;66;03m# we got a good response, so return\u001b[39;00m\n\u001b[0;32m    303\u001b[0m \u001b[38;5;28;01mreturn\u001b[39;00m response_json\n",
      "\u001b[1;31mYelpAPIError\u001b[0m: VALIDATION_ERROR: Too many results requested, limit+offset must be <= 1000."
     ]
    }
   ],
   "source": [
    "# Retrieve the results in batches\n",
    "for batch_offset in range(1, n_batches + 1):\n",
    "    offset = batch_offset * batch_limit\n",
    "    batch_results = yelp_api.search_query(location=location, term=cuisine, limit=batch_limit, offset=offset)\n",
    "    df = pd.concat([df, pd.DataFrame(batch_results['businesses'])], ignore_index=True)"
   ]
  },
  {
   "cell_type": "code",
   "execution_count": 51,
   "id": "3c18b0dd",
   "metadata": {},
   "outputs": [],
   "source": [
    "# Check for duplicates\n",
    "df.drop_duplicates(subset='id', inplace=True)"
   ]
  },
  {
   "cell_type": "code",
   "execution_count": 52,
   "id": "6ac706c6",
   "metadata": {},
   "outputs": [
    {
     "name": "stdout",
     "output_type": "stream",
     "text": [
      "                       id                                 alias  \\\n",
      "0  n18mJPI6mQfBJEp8UrITyw               blue-pan-pizza-denver-4   \n",
      "1  VFACYV_lGv9y4FV-_1m4Ig  brooklyns-finest-pizza-lowell-denver   \n",
      "2  Yk84dALUw0TPPf9sMuu2hg                 redeemer-pizza-denver   \n",
      "3  mmz8zURQXK4ijOYkK1qBTg                 pizzeria-lui-lakewood   \n",
      "4  kI5oOBAGS-Vo4chwmgOVmQ                    cart-driver-denver   \n",
      "\n",
      "                      name                                          image_url  \\\n",
      "0           Blue Pan Pizza  https://s3-media2.fl.yelpcdn.com/bphoto/EAkVmo...   \n",
      "1  Brooklyn's Finest Pizza  https://s3-media4.fl.yelpcdn.com/bphoto/6cPY-Z...   \n",
      "2           Redeemer Pizza  https://s3-media4.fl.yelpcdn.com/bphoto/tmZdbk...   \n",
      "3             Pizzeria Lui  https://s3-media1.fl.yelpcdn.com/bphoto/eW3v8m...   \n",
      "4              Cart-Driver  https://s3-media1.fl.yelpcdn.com/bphoto/YzE2Pj...   \n",
      "\n",
      "   is_closed                                                url  review_count  \\\n",
      "0      False  https://www.yelp.com/biz/blue-pan-pizza-denver...           697   \n",
      "1      False  https://www.yelp.com/biz/brooklyns-finest-pizz...           506   \n",
      "2      False  https://www.yelp.com/biz/redeemer-pizza-denver...           128   \n",
      "3      False  https://www.yelp.com/biz/pizzeria-lui-lakewood...           340   \n",
      "4      False  https://www.yelp.com/biz/cart-driver-denver?ad...           641   \n",
      "\n",
      "                                          categories  rating  \\\n",
      "0  [{'alias': 'pizza', 'title': 'Pizza'}, {'alias...     4.5   \n",
      "1  [{'alias': 'pizza', 'title': 'Pizza'}, {'alias...     4.5   \n",
      "2             [{'alias': 'pizza', 'title': 'Pizza'}]     4.5   \n",
      "3             [{'alias': 'pizza', 'title': 'Pizza'}]     4.5   \n",
      "4  [{'alias': 'pizza', 'title': 'Pizza'}, {'alias...     4.5   \n",
      "\n",
      "                                         coordinates        transactions  \\\n",
      "0  {'latitude': 39.735349, 'longitude': -104.945823}          [delivery]   \n",
      "1  {'latitude': 39.7875680710371, 'longitude': -1...  [delivery, pickup]   \n",
      "2    {'latitude': 39.75975, 'longitude': -104.98405}  [delivery, pickup]   \n",
      "3  {'latitude': 39.6965331421814, 'longitude': -1...          [delivery]   \n",
      "4  {'latitude': 39.7575443618608, 'longitude': -1...  [delivery, pickup]   \n",
      "\n",
      "  price                                           location         phone  \\\n",
      "0    $$  {'address1': '3509 E 12th Ave', 'address2': ''...  +17205190944   \n",
      "1    $$  {'address1': '5007 Lowell Blvd', 'address2': '...  +13034770066   \n",
      "2   NaN  {'address1': '2705 Larimer St', 'address2': No...  +17207801379   \n",
      "3    $$  {'address1': '5380 W Mississippi Ave', 'addres...  +13039223202   \n",
      "4    $$  {'address1': '2500 Larimer St', 'address2': 'S...  +13032923553   \n",
      "\n",
      "    display_phone      distance  \n",
      "0  (720) 519-0944   8271.274253  \n",
      "1  (303) 477-0066  15510.516545  \n",
      "2  (720) 780-1379  10934.932313  \n",
      "3  (303) 922-3202  18657.015124  \n",
      "4  (303) 292-3553  11125.161044  \n"
     ]
    }
   ],
   "source": [
    "# Print the resulting dataframe\n",
    "print(df.head())"
   ]
  },
  {
   "cell_type": "code",
   "execution_count": 53,
   "id": "94edd7a1",
   "metadata": {},
   "outputs": [],
   "source": [
    "# Save the dataframe to a file\n",
    "df.to_csv('yelp_results.csv', index=False)"
   ]
  }
 ],
 "metadata": {
  "kernelspec": {
   "display_name": "Python 3 (ipykernel)",
   "language": "python",
   "name": "python3"
  },
  "language_info": {
   "codemirror_mode": {
    "name": "ipython",
    "version": 3
   },
   "file_extension": ".py",
   "mimetype": "text/x-python",
   "name": "python",
   "nbconvert_exporter": "python",
   "pygments_lexer": "ipython3",
   "version": "3.9.15"
  },
  "toc": {
   "base_numbering": 1,
   "nav_menu": {},
   "number_sections": true,
   "sideBar": true,
   "skip_h1_title": false,
   "title_cell": "Table of Contents",
   "title_sidebar": "Contents",
   "toc_cell": false,
   "toc_position": {},
   "toc_section_display": true,
   "toc_window_display": false
  }
 },
 "nbformat": 4,
 "nbformat_minor": 5
}
